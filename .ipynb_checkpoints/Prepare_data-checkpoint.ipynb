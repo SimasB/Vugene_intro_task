{
 "cells": [
  {
   "cell_type": "markdown",
   "id": "b9ed85f5",
   "metadata": {},
   "source": [
    "# Importing packages and reading the table"
   ]
  },
  {
   "cell_type": "code",
   "execution_count": 1,
   "id": "2a134708",
   "metadata": {},
   "outputs": [],
   "source": [
    "import matplotlib.pyplot as plt\n",
    "import pandas as pd"
   ]
  },
  {
   "cell_type": "code",
   "execution_count": 2,
   "id": "6268535b",
   "metadata": {},
   "outputs": [
    {
     "data": {
      "text/html": [
       "<div>\n",
       "<style scoped>\n",
       "    .dataframe tbody tr th:only-of-type {\n",
       "        vertical-align: middle;\n",
       "    }\n",
       "\n",
       "    .dataframe tbody tr th {\n",
       "        vertical-align: top;\n",
       "    }\n",
       "\n",
       "    .dataframe thead th {\n",
       "        text-align: right;\n",
       "    }\n",
       "</style>\n",
       "<table border=\"1\" class=\"dataframe\">\n",
       "  <thead>\n",
       "    <tr style=\"text-align: right;\">\n",
       "      <th></th>\n",
       "      <th>SID</th>\n",
       "      <th>Condition</th>\n",
       "      <th>Sex</th>\n",
       "      <th>Batch</th>\n",
       "      <th>PMI</th>\n",
       "      <th>RIN</th>\n",
       "      <th>Liver</th>\n",
       "      <th>BrainPH</th>\n",
       "      <th>BrainWeight</th>\n",
       "      <th>LeftRightBrain</th>\n",
       "      <th>Smoking</th>\n",
       "    </tr>\n",
       "  </thead>\n",
       "  <tbody>\n",
       "    <tr>\n",
       "      <th>0</th>\n",
       "      <td>SRR15466722</td>\n",
       "      <td>Control</td>\n",
       "      <td>male</td>\n",
       "      <td>2</td>\n",
       "      <td>29</td>\n",
       "      <td>4,9</td>\n",
       "      <td>MildSteatosis</td>\n",
       "      <td>6.12</td>\n",
       "      <td>1320</td>\n",
       "      <td>Left</td>\n",
       "      <td>Never</td>\n",
       "    </tr>\n",
       "    <tr>\n",
       "      <th>1</th>\n",
       "      <td>SRR15466723</td>\n",
       "      <td>Control</td>\n",
       "      <td>Female</td>\n",
       "      <td>1</td>\n",
       "      <td>15</td>\n",
       "      <td>7.3</td>\n",
       "      <td>Normal</td>\n",
       "      <td>6.93</td>\n",
       "      <td>1330</td>\n",
       "      <td>Right</td>\n",
       "      <td>NaN</td>\n",
       "    </tr>\n",
       "    <tr>\n",
       "      <th>2</th>\n",
       "      <td>SRR15466724</td>\n",
       "      <td>Control</td>\n",
       "      <td>female</td>\n",
       "      <td>2</td>\n",
       "      <td>11</td>\n",
       "      <td>3.4</td>\n",
       "      <td>Normal</td>\n",
       "      <td>6.21</td>\n",
       "      <td>1200</td>\n",
       "      <td>Left</td>\n",
       "      <td>Current</td>\n",
       "    </tr>\n",
       "    <tr>\n",
       "      <th>3</th>\n",
       "      <td>SRR15466725</td>\n",
       "      <td>AlcoholUseDisorder</td>\n",
       "      <td>female</td>\n",
       "      <td>1</td>\n",
       "      <td>38</td>\n",
       "      <td>7.8</td>\n",
       "      <td>Normal</td>\n",
       "      <td>6.54</td>\n",
       "      <td>1180</td>\n",
       "      <td>Right</td>\n",
       "      <td>Current</td>\n",
       "    </tr>\n",
       "    <tr>\n",
       "      <th>4</th>\n",
       "      <td>SRR15466742</td>\n",
       "      <td>Control</td>\n",
       "      <td>female</td>\n",
       "      <td>2</td>\n",
       "      <td>23</td>\n",
       "      <td>4.6</td>\n",
       "      <td>Congestion</td>\n",
       "      <td>6.17</td>\n",
       "      <td>1340</td>\n",
       "      <td>Left</td>\n",
       "      <td>NAN</td>\n",
       "    </tr>\n",
       "    <tr>\n",
       "      <th>5</th>\n",
       "      <td>SRR15466743</td>\n",
       "      <td>AlcoholUseDisorder</td>\n",
       "      <td>male</td>\n",
       "      <td>1</td>\n",
       "      <td>39.5</td>\n",
       "      <td>8</td>\n",
       "      <td>Cirrhosis</td>\n",
       "      <td>6.34</td>\n",
       "      <td>1412</td>\n",
       "      <td>Left</td>\n",
       "      <td>Current</td>\n",
       "    </tr>\n",
       "    <tr>\n",
       "      <th>6</th>\n",
       "      <td>SRR15466744</td>\n",
       "      <td>Control</td>\n",
       "      <td>femalle</td>\n",
       "      <td>1</td>\n",
       "      <td>29.5</td>\n",
       "      <td>8.2</td>\n",
       "      <td>Normal</td>\n",
       "      <td>6.78</td>\n",
       "      <td>1195</td>\n",
       "      <td>Left</td>\n",
       "      <td>Never</td>\n",
       "    </tr>\n",
       "    <tr>\n",
       "      <th>7</th>\n",
       "      <td>SRR15466745</td>\n",
       "      <td>AlcoholUseDisorder</td>\n",
       "      <td>female</td>\n",
       "      <td>2</td>\n",
       "      <td>37</td>\n",
       "      <td>6,8</td>\n",
       "      <td>Steatosis</td>\n",
       "      <td>6.95</td>\n",
       "      <td>1139</td>\n",
       "      <td>Right</td>\n",
       "      <td>Never</td>\n",
       "    </tr>\n",
       "    <tr>\n",
       "      <th>8</th>\n",
       "      <td>SRR15466746</td>\n",
       "      <td>AlcoholUseDisorder</td>\n",
       "      <td>male</td>\n",
       "      <td>2</td>\n",
       "      <td>61</td>\n",
       "      <td>7.3</td>\n",
       "      <td>Steatosis</td>\n",
       "      <td>6.79</td>\n",
       "      <td>1670</td>\n",
       "      <td>Left</td>\n",
       "      <td>Current</td>\n",
       "    </tr>\n",
       "    <tr>\n",
       "      <th>9</th>\n",
       "      <td>SRR15466729</td>\n",
       "      <td>Control</td>\n",
       "      <td>male</td>\n",
       "      <td>1</td>\n",
       "      <td>12</td>\n",
       "      <td>7.6</td>\n",
       "      <td>Steatosis</td>\n",
       "      <td>6.39</td>\n",
       "      <td>1631</td>\n",
       "      <td>Left</td>\n",
       "      <td>Never</td>\n",
       "    </tr>\n",
       "    <tr>\n",
       "      <th>10</th>\n",
       "      <td>SRR15466731</td>\n",
       "      <td>AlcoholUseDisorder</td>\n",
       "      <td>Male</td>\n",
       "      <td>1</td>\n",
       "      <td>38.5</td>\n",
       "      <td>7.2</td>\n",
       "      <td>Steatosiss</td>\n",
       "      <td>6.55</td>\n",
       "      <td>1504</td>\n",
       "      <td>Right</td>\n",
       "      <td>Current</td>\n",
       "    </tr>\n",
       "    <tr>\n",
       "      <th>11</th>\n",
       "      <td>SRR15466732</td>\n",
       "      <td>Control</td>\n",
       "      <td>male</td>\n",
       "      <td>2</td>\n",
       "      <td>40</td>\n",
       "      <td>8.2</td>\n",
       "      <td>Congestion</td>\n",
       "      <td>6.87</td>\n",
       "      <td>1596</td>\n",
       "      <td>Left</td>\n",
       "      <td>Current</td>\n",
       "    </tr>\n",
       "    <tr>\n",
       "      <th>12</th>\n",
       "      <td>SRR15466726</td>\n",
       "      <td>AlcoholUseDisorder</td>\n",
       "      <td>f</td>\n",
       "      <td>1</td>\n",
       "      <td>16</td>\n",
       "      <td>6.9</td>\n",
       "      <td>Cirrhosis</td>\n",
       "      <td>6.19</td>\n",
       "      <td>1199</td>\n",
       "      <td>Right</td>\n",
       "      <td>Current</td>\n",
       "    </tr>\n",
       "    <tr>\n",
       "      <th>13</th>\n",
       "      <td>SRR15466727</td>\n",
       "      <td>AlcoholUseDisorder</td>\n",
       "      <td>f</td>\n",
       "      <td>2</td>\n",
       "      <td>23</td>\n",
       "      <td>4.9</td>\n",
       "      <td>normal</td>\n",
       "      <td>6.44</td>\n",
       "      <td>1456</td>\n",
       "      <td>Right</td>\n",
       "      <td>Current</td>\n",
       "    </tr>\n",
       "    <tr>\n",
       "      <th>14</th>\n",
       "      <td>SRR15466728</td>\n",
       "      <td>AlcoholUsedisorder</td>\n",
       "      <td>female</td>\n",
       "      <td>1</td>\n",
       "      <td>41.5</td>\n",
       "      <td>7.7</td>\n",
       "      <td>Cirrhosis</td>\n",
       "      <td>6.8</td>\n",
       "      <td>1191</td>\n",
       "      <td>Right</td>\n",
       "      <td>Current</td>\n",
       "    </tr>\n",
       "    <tr>\n",
       "      <th>15</th>\n",
       "      <td>SRR15466733</td>\n",
       "      <td>Control</td>\n",
       "      <td>male</td>\n",
       "      <td>2</td>\n",
       "      <td>16</td>\n",
       "      <td>8.2</td>\n",
       "      <td>Conkestion</td>\n",
       "      <td>6.5</td>\n",
       "      <td>1360</td>\n",
       "      <td>Left</td>\n",
       "      <td>Current</td>\n",
       "    </tr>\n",
       "    <tr>\n",
       "      <th>16</th>\n",
       "      <td>SRR15466734</td>\n",
       "      <td>AlcoholUseDisorder</td>\n",
       "      <td>male</td>\n",
       "      <td>2</td>\n",
       "      <td>44</td>\n",
       "      <td>6,6</td>\n",
       "      <td>Normal</td>\n",
       "      <td>6.41</td>\n",
       "      <td>1600</td>\n",
       "      <td>Left</td>\n",
       "      <td>Current</td>\n",
       "    </tr>\n",
       "    <tr>\n",
       "      <th>17</th>\n",
       "      <td>SRR15466735</td>\n",
       "      <td>Control</td>\n",
       "      <td>Male</td>\n",
       "      <td>1</td>\n",
       "      <td>34</td>\n",
       "      <td>7.4</td>\n",
       "      <td>Normal</td>\n",
       "      <td>6.77</td>\n",
       "      <td>1480</td>\n",
       "      <td>Left</td>\n",
       "      <td>never</td>\n",
       "    </tr>\n",
       "    <tr>\n",
       "      <th>18</th>\n",
       "      <td>SRR15466736</td>\n",
       "      <td>AlcoholUseDisorder</td>\n",
       "      <td>female</td>\n",
       "      <td>2</td>\n",
       "      <td>62</td>\n",
       "      <td>6.4</td>\n",
       "      <td>Cirrhosiss</td>\n",
       "      <td>6.41</td>\n",
       "      <td>1184</td>\n",
       "      <td>Left</td>\n",
       "      <td>Current</td>\n",
       "    </tr>\n",
       "    <tr>\n",
       "      <th>19</th>\n",
       "      <td>SRR15466737</td>\n",
       "      <td>Control</td>\n",
       "      <td>female</td>\n",
       "      <td>1</td>\n",
       "      <td>28</td>\n",
       "      <td>7.6</td>\n",
       "      <td>Normal</td>\n",
       "      <td>6.34</td>\n",
       "      <td>1394</td>\n",
       "      <td>Left</td>\n",
       "      <td>Current</td>\n",
       "    </tr>\n",
       "    <tr>\n",
       "      <th>20</th>\n",
       "      <td>SRR15466738</td>\n",
       "      <td>AlcoholUseDisorder</td>\n",
       "      <td>male</td>\n",
       "      <td>2</td>\n",
       "      <td>34.5</td>\n",
       "      <td>6.7</td>\n",
       "      <td>Cirrhosis</td>\n",
       "      <td>6.93</td>\n",
       "      <td>1470</td>\n",
       "      <td>Left</td>\n",
       "      <td>Ex_smokers</td>\n",
       "    </tr>\n",
       "    <tr>\n",
       "      <th>21</th>\n",
       "      <td>SRR15466739</td>\n",
       "      <td>Control</td>\n",
       "      <td>male</td>\n",
       "      <td>1</td>\n",
       "      <td>59</td>\n",
       "      <td>8.3</td>\n",
       "      <td>Normal</td>\n",
       "      <td>6.93</td>\n",
       "      <td>1724</td>\n",
       "      <td>Right</td>\n",
       "      <td>Ex_smoker</td>\n",
       "    </tr>\n",
       "    <tr>\n",
       "      <th>22</th>\n",
       "      <td>SRA15500000</td>\n",
       "      <td>Case</td>\n",
       "      <td>Gender</td>\n",
       "      <td>None</td>\n",
       "      <td>-</td>\n",
       "      <td>-</td>\n",
       "      <td>Case</td>\n",
       "      <td>-</td>\n",
       "      <td>-</td>\n",
       "      <td>Brain</td>\n",
       "      <td>Status</td>\n",
       "    </tr>\n",
       "    <tr>\n",
       "      <th>23</th>\n",
       "      <td>SRR15466740</td>\n",
       "      <td>AlcoholUseDisorder</td>\n",
       "      <td>male</td>\n",
       "      <td>1</td>\n",
       "      <td>51.5</td>\n",
       "      <td>5.2</td>\n",
       "      <td>Steatosis</td>\n",
       "      <td>6.8</td>\n",
       "      <td>1172</td>\n",
       "      <td>Right</td>\n",
       "      <td>Current</td>\n",
       "    </tr>\n",
       "    <tr>\n",
       "      <th>24</th>\n",
       "      <td>SRR15466741</td>\n",
       "      <td>Control</td>\n",
       "      <td>female</td>\n",
       "      <td>2</td>\n",
       "      <td>40</td>\n",
       "      <td>6.3</td>\n",
       "      <td>Congestion</td>\n",
       "      <td>6.83</td>\n",
       "      <td>1430</td>\n",
       "      <td>Right</td>\n",
       "      <td>Current</td>\n",
       "    </tr>\n",
       "  </tbody>\n",
       "</table>\n",
       "</div>"
      ],
      "text/plain": [
       "            SID           Condition      Sex Batch   PMI  RIN          Liver  \\\n",
       "0   SRR15466722             Control     male     2    29  4,9  MildSteatosis   \n",
       "1   SRR15466723             Control   Female     1    15  7.3         Normal   \n",
       "2   SRR15466724             Control   female     2    11  3.4         Normal   \n",
       "3   SRR15466725  AlcoholUseDisorder   female     1    38  7.8         Normal   \n",
       "4   SRR15466742             Control   female     2    23  4.6     Congestion   \n",
       "5   SRR15466743  AlcoholUseDisorder     male     1  39.5    8      Cirrhosis   \n",
       "6   SRR15466744             Control  femalle     1  29.5  8.2         Normal   \n",
       "7   SRR15466745  AlcoholUseDisorder   female     2    37  6,8      Steatosis   \n",
       "8   SRR15466746  AlcoholUseDisorder     male     2    61  7.3      Steatosis   \n",
       "9   SRR15466729             Control     male     1    12  7.6      Steatosis   \n",
       "10  SRR15466731  AlcoholUseDisorder     Male     1  38.5  7.2     Steatosiss   \n",
       "11  SRR15466732             Control     male     2    40  8.2     Congestion   \n",
       "12  SRR15466726  AlcoholUseDisorder        f     1    16  6.9      Cirrhosis   \n",
       "13  SRR15466727  AlcoholUseDisorder        f     2    23  4.9         normal   \n",
       "14  SRR15466728  AlcoholUsedisorder   female     1  41.5  7.7      Cirrhosis   \n",
       "15  SRR15466733             Control     male     2    16  8.2     Conkestion   \n",
       "16  SRR15466734  AlcoholUseDisorder     male     2    44  6,6         Normal   \n",
       "17  SRR15466735             Control     Male     1    34  7.4         Normal   \n",
       "18  SRR15466736  AlcoholUseDisorder   female     2    62  6.4     Cirrhosiss   \n",
       "19  SRR15466737             Control   female     1    28  7.6         Normal   \n",
       "20  SRR15466738  AlcoholUseDisorder     male     2  34.5  6.7      Cirrhosis   \n",
       "21  SRR15466739             Control     male     1    59  8.3         Normal   \n",
       "22  SRA15500000                Case   Gender  None     -    -           Case   \n",
       "23  SRR15466740  AlcoholUseDisorder     male     1  51.5  5.2      Steatosis   \n",
       "24  SRR15466741             Control   female     2    40  6.3     Congestion   \n",
       "\n",
       "   BrainPH BrainWeight LeftRightBrain     Smoking  \n",
       "0     6.12        1320           Left       Never  \n",
       "1     6.93        1330          Right         NaN  \n",
       "2     6.21        1200           Left     Current  \n",
       "3     6.54        1180          Right     Current  \n",
       "4     6.17        1340           Left         NAN  \n",
       "5     6.34        1412           Left     Current  \n",
       "6     6.78        1195           Left       Never  \n",
       "7     6.95        1139          Right       Never  \n",
       "8     6.79        1670           Left     Current  \n",
       "9     6.39        1631           Left       Never  \n",
       "10    6.55        1504          Right     Current  \n",
       "11    6.87        1596           Left     Current  \n",
       "12    6.19        1199          Right     Current  \n",
       "13    6.44        1456          Right     Current  \n",
       "14     6.8        1191          Right     Current  \n",
       "15     6.5        1360           Left     Current  \n",
       "16    6.41        1600           Left     Current  \n",
       "17    6.77        1480           Left       never  \n",
       "18    6.41        1184           Left     Current  \n",
       "19    6.34        1394           Left     Current  \n",
       "20    6.93        1470           Left  Ex_smokers  \n",
       "21    6.93        1724          Right   Ex_smoker  \n",
       "22       -           -          Brain      Status  \n",
       "23     6.8        1172          Right     Current  \n",
       "24    6.83        1430          Right     Current  "
      ]
     },
     "execution_count": 2,
     "metadata": {},
     "output_type": "execute_result"
    }
   ],
   "source": [
    "df = pd.read_excel(\"messy_sample_sheet.xlsx\")\n",
    "df"
   ]
  },
  {
   "cell_type": "markdown",
   "id": "3a8c48b8",
   "metadata": {},
   "source": [
    "# Things to check/fix\n",
    "\n",
    "- If SIDs are all unique\n",
    "- Condition, Sex, Liver, LeftRightBrain, Smoking values standartized (no values meaning the same thing)\n",
    "- Numbers with with correct demoninator (either comma or dot)\n",
    "- Find missing values, decide what to do with them\n",
    "- Change Batch into categorical value\n",
    "- Show that values are logically distributed (no other outliers)"
   ]
  },
  {
   "cell_type": "markdown",
   "id": "15ef9c1e",
   "metadata": {},
   "source": [
    "## Initial step: removing sample that's obviously bad\n",
    "\n",
    "In other words we can check which samples have a lot of missing values and it's easier to check with numeric values. Even though Batch is categorical, numbers are used."
   ]
  },
  {
   "cell_type": "code",
   "execution_count": 3,
   "id": "620a7d72",
   "metadata": {},
   "outputs": [
    {
     "name": "stdout",
     "output_type": "stream",
     "text": [
      "SRA15500000 failed 5 checks\n"
     ]
    },
    {
     "data": {
      "text/plain": [
       "['SRA15500000']"
      ]
     },
     "execution_count": 3,
     "metadata": {},
     "output_type": "execute_result"
    }
   ],
   "source": [
    "numeric_cols = [\"Batch\", \"PMI\", \"RIN\", \"BrainPH\", \"BrainWeight\"]\n",
    "sids_to_remove = []\n",
    "for i in range(df.shape[0]):\n",
    "    failed_check = 0\n",
    "    for nc in numeric_cols:\n",
    "        val = str(df[nc][i]).replace(\",\", \".\")\n",
    "        try:\n",
    "            float(val)\n",
    "        except ValueError:\n",
    "            failed_check += 1\n",
    "    if failed_check > 0:\n",
    "        print(f\"{df['SID'][i]} failed {failed_check} checks\")\n",
    "        sids_to_remove.append(df[\"SID\"][i])\n",
    "sids_to_remove"
   ]
  },
  {
   "cell_type": "code",
   "execution_count": 4,
   "id": "a8d553e6",
   "metadata": {},
   "outputs": [
    {
     "name": "stdout",
     "output_type": "stream",
     "text": [
      "(25, 11)\n",
      "(24, 11)\n"
     ]
    }
   ],
   "source": [
    "print(df.shape)\n",
    "df = df.loc[~df[\"SID\"].isin(sids_to_remove)]\n",
    "print(df.shape)"
   ]
  },
  {
   "cell_type": "markdown",
   "id": "40cf41cb",
   "metadata": {},
   "source": [
    "## Checking if SIDs are all unique\n",
    "\n",
    "- set() leaves only unique values\n",
    "- True means that there are no duplicate values"
   ]
  },
  {
   "cell_type": "code",
   "execution_count": 5,
   "id": "50b6fd74",
   "metadata": {},
   "outputs": [
    {
     "data": {
      "text/plain": [
       "True"
      ]
     },
     "execution_count": 5,
     "metadata": {},
     "output_type": "execute_result"
    }
   ],
   "source": [
    "len(df[\"SID\"]) == len(set(df[\"SID\"]))"
   ]
  },
  {
   "cell_type": "markdown",
   "id": "17111085",
   "metadata": {},
   "source": [
    "## Standartizing Condition values"
   ]
  },
  {
   "cell_type": "code",
   "execution_count": 6,
   "id": "784e85e1",
   "metadata": {},
   "outputs": [
    {
     "data": {
      "text/plain": [
       "{'AlcoholUseDisorder', 'AlcoholUsedisorder', 'Control'}"
      ]
     },
     "execution_count": 6,
     "metadata": {},
     "output_type": "execute_result"
    }
   ],
   "source": [
    "set(df[\"Condition\"])"
   ]
  },
  {
   "cell_type": "code",
   "execution_count": 7,
   "id": "bcd4e05b",
   "metadata": {},
   "outputs": [],
   "source": [
    "conds = [str(val).replace('AlcoholUsedisorder', 'AlcoholUseDisorder') for val in df[\"Condition\"]]\n",
    "df = df.copy()\n",
    "df.loc[:, \"Condition\"] = conds"
   ]
  },
  {
   "cell_type": "code",
   "execution_count": 8,
   "id": "ee5b4f10",
   "metadata": {},
   "outputs": [
    {
     "data": {
      "text/plain": [
       "{'AlcoholUseDisorder', 'Control'}"
      ]
     },
     "execution_count": 8,
     "metadata": {},
     "output_type": "execute_result"
    }
   ],
   "source": [
    "set(df[\"Condition\"])"
   ]
  },
  {
   "cell_type": "markdown",
   "id": "2d226f12",
   "metadata": {},
   "source": [
    "## Standartizing Sex values\n",
    "\n",
    "Variation is bigger so syntax won't be so easy as with Condition"
   ]
  },
  {
   "cell_type": "code",
   "execution_count": 9,
   "id": "dfb94c64",
   "metadata": {},
   "outputs": [
    {
     "data": {
      "text/plain": [
       "{'Female', 'Male', 'f', 'female', 'femalle', 'male'}"
      ]
     },
     "execution_count": 9,
     "metadata": {},
     "output_type": "execute_result"
    }
   ],
   "source": [
    "set(df[\"Sex\"])"
   ]
  },
  {
   "cell_type": "code",
   "execution_count": 10,
   "id": "00c04dcf",
   "metadata": {},
   "outputs": [],
   "source": [
    "new_values = []\n",
    "for s in df[\"Sex\"]:\n",
    "    if s in ['Female', 'f', 'female', 'femalle']:\n",
    "        new_values.append(\"Female\")\n",
    "    elif s in ['Male', 'male']:\n",
    "        new_values.append(\"Male\")\n",
    "    else:\n",
    "        print(f\"Undetected value: {s}\")\n",
    "df.loc[:, \"Sex\"] = new_values"
   ]
  },
  {
   "cell_type": "code",
   "execution_count": 11,
   "id": "5bcf3b59",
   "metadata": {},
   "outputs": [
    {
     "data": {
      "text/plain": [
       "{'Female', 'Male'}"
      ]
     },
     "execution_count": 11,
     "metadata": {},
     "output_type": "execute_result"
    }
   ],
   "source": [
    "set(df[\"Sex\"])"
   ]
  },
  {
   "cell_type": "markdown",
   "id": "4035d8e1",
   "metadata": {},
   "source": [
    "## Standartizing Liver values\n",
    "\n",
    "- Again, same names must mean the same thing\n",
    "- Cirrhosis, congestion and steatosis seem to be different conditions and can't be merged\n",
    "- Though MildSteatosis will be merged with just Steatosis because levels of conditions aren't being examined and there is no information whether just Steatosis isn't mild"
   ]
  },
  {
   "cell_type": "code",
   "execution_count": 12,
   "id": "f80a6345",
   "metadata": {},
   "outputs": [
    {
     "data": {
      "text/plain": [
       "{'Cirrhosis',\n",
       " 'Cirrhosiss',\n",
       " 'Congestion',\n",
       " 'Conkestion',\n",
       " 'MildSteatosis',\n",
       " 'Normal',\n",
       " 'Steatosis',\n",
       " 'Steatosiss',\n",
       " 'normal'}"
      ]
     },
     "execution_count": 12,
     "metadata": {},
     "output_type": "execute_result"
    }
   ],
   "source": [
    "set(df[\"Liver\"])"
   ]
  },
  {
   "cell_type": "code",
   "execution_count": 13,
   "id": "d88bbe3b",
   "metadata": {},
   "outputs": [],
   "source": [
    "new_values = []\n",
    "for s in df[\"Liver\"]:\n",
    "    if s in ['Cirrhosis', 'Cirrhosiss']:\n",
    "        new_values.append(\"Cirrhosis\")\n",
    "    elif s in ['Congestion', 'Conkestion']:\n",
    "        new_values.append(\"Congestion\")\n",
    "    elif s in ['MildSteatosis', 'Steatosis', 'Steatosiss']:\n",
    "        new_values.append(\"Steatosis\")\n",
    "    elif s in ['Normal', 'normal']:\n",
    "        new_values.append(\"Normal\")\n",
    "    else:\n",
    "        print(f\"Undetected value: {s}\")\n",
    "df.loc[:, \"Liver\"] = new_values"
   ]
  },
  {
   "cell_type": "code",
   "execution_count": 14,
   "id": "bfad702c",
   "metadata": {},
   "outputs": [
    {
     "data": {
      "text/plain": [
       "{'Cirrhosis', 'Congestion', 'Normal', 'Steatosis'}"
      ]
     },
     "execution_count": 14,
     "metadata": {},
     "output_type": "execute_result"
    }
   ],
   "source": [
    "set(df[\"Liver\"])"
   ]
  },
  {
   "cell_type": "markdown",
   "id": "faf98a77",
   "metadata": {},
   "source": [
    "## Standartizing LeftRightBrain values\n",
    "\n",
    "- based on result no standartization needed"
   ]
  },
  {
   "cell_type": "code",
   "execution_count": 15,
   "id": "8b35952a",
   "metadata": {},
   "outputs": [
    {
     "data": {
      "text/plain": [
       "{'Left', 'Right'}"
      ]
     },
     "execution_count": 15,
     "metadata": {},
     "output_type": "execute_result"
    }
   ],
   "source": [
    "set(df[\"LeftRightBrain\"])"
   ]
  },
  {
   "cell_type": "markdown",
   "id": "2f5d9e44",
   "metadata": {},
   "source": [
    "## Standartizing Smoking values"
   ]
  },
  {
   "cell_type": "code",
   "execution_count": 16,
   "id": "ef72f225",
   "metadata": {},
   "outputs": [
    {
     "data": {
      "text/plain": [
       "{'Current', 'Ex_smoker', 'Ex_smokers', 'NAN', 'Never', nan, 'never'}"
      ]
     },
     "execution_count": 16,
     "metadata": {},
     "output_type": "execute_result"
    }
   ],
   "source": [
    "set(df[\"Smoking\"])"
   ]
  },
  {
   "cell_type": "code",
   "execution_count": 17,
   "id": "40f48b7c",
   "metadata": {},
   "outputs": [],
   "source": [
    "new_values = []\n",
    "for s in df[\"Smoking\"]:\n",
    "    if s in ['Current']:\n",
    "        new_values.append(\"Current\")\n",
    "    elif s in ['Ex_smoker', 'Ex_smokers']:\n",
    "        new_values.append(\"Ex_smoker\")\n",
    "    elif s in ['Never', 'never']:\n",
    "        new_values.append(\"Never\")\n",
    "    elif s in ['NAN'] or pd.isna(s):\n",
    "        new_values.append(\"Unknown\")\n",
    "    else:\n",
    "        print(f\"Undetected value: {s}\")\n",
    "df.loc[:, \"Smoking\"] = new_values"
   ]
  },
  {
   "cell_type": "code",
   "execution_count": 18,
   "id": "585e1282",
   "metadata": {},
   "outputs": [
    {
     "data": {
      "text/plain": [
       "{'Current', 'Ex_smoker', 'Never', 'Unknown'}"
      ]
     },
     "execution_count": 18,
     "metadata": {},
     "output_type": "execute_result"
    }
   ],
   "source": [
    "set(df[\"Smoking\"])"
   ]
  },
  {
   "cell_type": "markdown",
   "id": "2a0c23c6",
   "metadata": {},
   "source": [
    "## Numbers with with correct demoninator (either comma or dot)\n",
    "\n",
    "- numeric columns were defined before:\n",
    "    * *numeric_cols = [\"Batch\", \"PMI\", \"RIN\", \"BrainPH\", \"BrainWeight\"]*"
   ]
  },
  {
   "cell_type": "code",
   "execution_count": 19,
   "id": "cd8f8ce3",
   "metadata": {},
   "outputs": [
    {
     "name": "stderr",
     "output_type": "stream",
     "text": [
      "C:\\Users\\IT\\AppData\\Local\\Temp\\ipykernel_15180\\3241821137.py:8: DeprecationWarning: In a future version, `df.iloc[:, i] = newvals` will attempt to set the values inplace instead of always setting a new array. To retain the old behavior, use either `df[df.columns[i]] = newvals` or, if columns are non-unique, `df.isetitem(i, newvals)`\n",
      "  df.loc[:, nc] = new_values\n"
     ]
    }
   ],
   "source": [
    "df = df.copy()\n",
    "for nc in numeric_cols:\n",
    "    new_values = []\n",
    "    for i in range(df.shape[0]):\n",
    "        val = str(list(df[nc])[i]).replace(\",\", \".\")\n",
    "        val = float(val) # no need for try block because I cleaned values before\n",
    "        new_values.append(val)\n",
    "    df.loc[:, nc] = new_values"
   ]
  },
  {
   "cell_type": "markdown",
   "id": "0a478f8b",
   "metadata": {},
   "source": [
    "## Change Batch into categorical value\n",
    "\n",
    "Logically, it's categorical where 2nd batch isn't better than 1st and vice versa"
   ]
  },
  {
   "cell_type": "code",
   "execution_count": 20,
   "id": "a3b55949",
   "metadata": {},
   "outputs": [
    {
     "data": {
      "text/plain": [
       "{1.0, 2.0}"
      ]
     },
     "execution_count": 20,
     "metadata": {},
     "output_type": "execute_result"
    }
   ],
   "source": [
    "set(df[\"Batch\"])"
   ]
  },
  {
   "cell_type": "code",
   "execution_count": 21,
   "id": "bf86636a",
   "metadata": {},
   "outputs": [],
   "source": [
    "batches = [str(val).replace('1.0', '1st').replace('2.0', '2nd') for val in df[\"Batch\"]]\n",
    "df.loc[:, \"Batch\"] = batches"
   ]
  },
  {
   "cell_type": "code",
   "execution_count": 22,
   "id": "d24e3cd3",
   "metadata": {},
   "outputs": [
    {
     "data": {
      "text/plain": [
       "{'1st', '2nd'}"
      ]
     },
     "execution_count": 22,
     "metadata": {},
     "output_type": "execute_result"
    }
   ],
   "source": [
    "set(df[\"Batch\"])"
   ]
  },
  {
   "cell_type": "markdown",
   "id": "a7ed0d07",
   "metadata": {},
   "source": [
    "## Show that values are logically distributed (no other outliers)"
   ]
  },
  {
   "cell_type": "code",
   "execution_count": 24,
   "id": "5706b7ca",
   "metadata": {},
   "outputs": [],
   "source": [
    "def show_col_hist(df, column):\n",
    "    plt.figure(figsize=(6,3))\n",
    "    plt.hist(sorted(list(df[column])))\n",
    "    plt.title(f\"Distribution of {column} values\")\n",
    "    plt.ylabel(\"Frequency\")\n",
    "    plt.xlabel(\"Values\")"
   ]
  },
  {
   "cell_type": "code",
   "execution_count": 25,
   "id": "10454228",
   "metadata": {},
   "outputs": [
    {
     "data": {
      "image/png": "[encoded data removed]",
      "text/plain": [
       "<Figure size 600x300 with 1 Axes>"
      ]
     },
     "metadata": {},
     "output_type": "display_data"
    }
   ],
   "source": [
    "show_col_hist(df, \"Condition\")"
   ]
  },
  {
   "cell_type": "code",
   "execution_count": 27,
   "id": "35145762",
   "metadata": {},
   "outputs": [
    {
     "data": {
      "image/png": "[encoded data removed]",
      "text/plain": [
       "<Figure size 600x300 with 1 Axes>"
      ]
     },
     "metadata": {},
     "output_type": "display_data"
    }
   ],
   "source": [
    "show_col_hist(df, \"Sex\")"
   ]
  },
  {
   "cell_type": "code",
   "execution_count": 28,
   "id": "374db4ad",
   "metadata": {},
   "outputs": [
    {
     "data": {
      "image/png": "[encoded data removed]",
      "text/plain": [
       "<Figure size 600x300 with 1 Axes>"
      ]
     },
     "metadata": {},
     "output_type": "display_data"
    }
   ],
   "source": [
    "show_col_hist(df, \"Batch\")"
   ]
  },
  {
   "cell_type": "code",
   "execution_count": 29,
   "id": "2bf5944b",
   "metadata": {},
   "outputs": [
    {
     "data": {
      "image/png": "[encoded data removed]",
      "text/plain": [
       "<Figure size 600x300 with 1 Axes>"
      ]
     },
     "metadata": {},
     "output_type": "display_data"
    }
   ],
   "source": [
    "show_col_hist(df, \"PMI\")"
   ]
  },
  {
   "cell_type": "code",
   "execution_count": 30,
   "id": "b68ed397",
   "metadata": {},
   "outputs": [
    {
     "data": {
      "image/png": "[encoded data removed]",
      "text/plain": [
       "<Figure size 600x300 with 1 Axes>"
      ]
     },
     "metadata": {},
     "output_type": "display_data"
    }
   ],
   "source": [
    "show_col_hist(df, \"RIN\")"
   ]
  },
  {
   "cell_type": "code",
   "execution_count": 31,
   "id": "f900c21c",
   "metadata": {},
   "outputs": [
    {
     "data": {
      "image/png": "[encoded data removed]",
      "text/plain": [
       "<Figure size 600x300 with 1 Axes>"
      ]
     },
     "metadata": {},
     "output_type": "display_data"
    }
   ],
   "source": [
    "show_col_hist(df, \"Liver\")"
   ]
  },
  {
   "cell_type": "code",
   "execution_count": 32,
   "id": "057c68b3",
   "metadata": {},
   "outputs": [
    {
     "data": {
      "image/png": "[encoded data removed]",
      "text/plain": [
       "<Figure size 600x300 with 1 Axes>"
      ]
     },
     "metadata": {},
     "output_type": "display_data"
    }
   ],
   "source": [
    "show_col_hist(df, \"BrainPH\")"
   ]
  },
  {
   "cell_type": "code",
   "execution_count": 33,
   "id": "17abaa3c",
   "metadata": {},
   "outputs": [
    {
     "data": {
      "image/png": "[encoded data removed]",
      "text/plain": [
       "<Figure size 600x300 with 1 Axes>"
      ]
     },
     "metadata": {},
     "output_type": "display_data"
    }
   ],
   "source": [
    "show_col_hist(df, \"BrainWeight\")"
   ]
  },
  {
   "cell_type": "code",
   "execution_count": 34,
   "id": "07661a48",
   "metadata": {},
   "outputs": [
    {
     "data": {
      "image/png": "[encoded data removed]",
      "text/plain": [
       "<Figure size 600x300 with 1 Axes>"
      ]
     },
     "metadata": {},
     "output_type": "display_data"
    }
   ],
   "source": [
    "show_col_hist(df, \"LeftRightBrain\")"
   ]
  },
  {
   "cell_type": "code",
   "execution_count": 35,
   "id": "f38af101",
   "metadata": {},
   "outputs": [
    {
     "data": {
      "image/png": "[encoded data removed]",
      "text/plain": [
       "<Figure size 600x300 with 1 Axes>"
      ]
     },
     "metadata": {},
     "output_type": "display_data"
    }
   ],
   "source": [
    "show_col_hist(df, \"Smoking\")"
   ]
  },
  {
   "cell_type": "code",
   "execution_count": null,
   "id": "65906416",
   "metadata": {},
   "outputs": [],
   "source": [
    "5/0"
   ]
  },
  {
   "cell_type": "markdown",
   "id": "308e753f",
   "metadata": {},
   "source": [
    "# Final dataframe to see, also saving it to new file"
   ]
  },
  {
   "cell_type": "code",
   "execution_count": null,
   "id": "d4585b1b",
   "metadata": {},
   "outputs": [],
   "source": [
    "df.to_excel(\"clean_sample_sheet.xlsx\")\n",
    "df"
   ]
  },
  {
   "cell_type": "markdown",
   "id": "c2936666",
   "metadata": {},
   "source": [
    "# Cleaning sequencing data"
   ]
  },
  {
   "cell_type": "code",
   "execution_count": null,
   "id": "23487c41",
   "metadata": {},
   "outputs": [],
   "source": [
    "# I won't need sample sheet in this notebook so it's a good idea to overwrite to save some RAM\n",
    "df = pd.read_csv(\"rnaseq_default_counts.csv\")\n",
    "df"
   ]
  },
  {
   "cell_type": "markdown",
   "id": "db747fc2",
   "metadata": {},
   "source": [
    "## Things to check/fix\n",
    "\n",
    "- remove previously removed sample\n",
    "- check missing data\n",
    "- give proper name for ID column\n",
    "- check if ID values are unique\n",
    "- data normalization"
   ]
  },
  {
   "cell_type": "markdown",
   "id": "8a3b3013",
   "metadata": {},
   "source": [
    "## Checking if there any missing data"
   ]
  },
  {
   "cell_type": "code",
   "execution_count": null,
   "id": "902c3191",
   "metadata": {},
   "outputs": [],
   "source": [
    "df.isnull().values.any()"
   ]
  }
 ],
 "metadata": {
  "kernelspec": {
   "display_name": "Python 3 (ipykernel)",
   "language": "python",
   "name": "python3"
  },
  "language_info": {
   "codemirror_mode": {
    "name": "ipython",
    "version": 3
   },
   "file_extension": ".py",
   "mimetype": "text/x-python",
   "name": "python",
   "nbconvert_exporter": "python",
   "pygments_lexer": "ipython3",
   "version": "3.10.9"
  }
 },
 "nbformat": 4,
 "nbformat_minor": 5
}
